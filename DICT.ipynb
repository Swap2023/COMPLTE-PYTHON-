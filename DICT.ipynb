{
 "cells": [
  {
   "cell_type": "markdown",
   "id": "6f840d40",
   "metadata": {},
   "source": [
    "DICT"
   ]
  },
  {
   "cell_type": "code",
   "execution_count": 1,
   "id": "0d72fb33",
   "metadata": {},
   "outputs": [],
   "source": [
    "d={}"
   ]
  },
  {
   "cell_type": "code",
   "execution_count": 5,
   "id": "2003c02e",
   "metadata": {},
   "outputs": [
    {
     "data": {
      "text/plain": [
       "dict"
      ]
     },
     "execution_count": 5,
     "metadata": {},
     "output_type": "execute_result"
    }
   ],
   "source": [
    "type(d)"
   ]
  },
  {
   "cell_type": "code",
   "execution_count": 8,
   "id": "674df1c0",
   "metadata": {},
   "outputs": [],
   "source": [
    "d1={1}"
   ]
  },
  {
   "cell_type": "code",
   "execution_count": 9,
   "id": "125463d5",
   "metadata": {},
   "outputs": [
    {
     "data": {
      "text/plain": [
       "set"
      ]
     },
     "execution_count": 9,
     "metadata": {},
     "output_type": "execute_result"
    }
   ],
   "source": [
    "type(d1)"
   ]
  },
  {
   "cell_type": "code",
   "execution_count": 16,
   "id": "4f258dae",
   "metadata": {},
   "outputs": [],
   "source": [
    "d={'srno':12, \"name\":\"swap\", \"number\":4556}"
   ]
  },
  {
   "cell_type": "code",
   "execution_count": 17,
   "id": "6be0fa15",
   "metadata": {},
   "outputs": [
    {
     "data": {
      "text/plain": [
       "{'srno': 12, 'name': 'swap', 'number': 4556}"
      ]
     },
     "execution_count": 17,
     "metadata": {},
     "output_type": "execute_result"
    }
   ],
   "source": [
    "d"
   ]
  },
  {
   "cell_type": "code",
   "execution_count": 18,
   "id": "6bff2c6e",
   "metadata": {},
   "outputs": [
    {
     "data": {
      "text/plain": [
       "dict"
      ]
     },
     "execution_count": 18,
     "metadata": {},
     "output_type": "execute_result"
    }
   ],
   "source": [
    "type(d)"
   ]
  },
  {
   "cell_type": "code",
   "execution_count": 22,
   "id": "db39bfea",
   "metadata": {},
   "outputs": [
    {
     "data": {
      "text/plain": [
       "'swap'"
      ]
     },
     "execution_count": 22,
     "metadata": {},
     "output_type": "execute_result"
    }
   ],
   "source": [
    "d['name']"
   ]
  },
  {
   "cell_type": "code",
   "execution_count": 27,
   "id": "cad3e7fc",
   "metadata": {},
   "outputs": [],
   "source": [
    "d1={'name':'kitto', 'tech':'java', 'tech':[\"java\",\"c\",\"oops\",\"vision\",\"python\"]}"
   ]
  },
  {
   "cell_type": "code",
   "execution_count": 28,
   "id": "9962c70c",
   "metadata": {},
   "outputs": [
    {
     "data": {
      "text/plain": [
       "{'name': 'kitto', 'tech': ['java', 'c', 'oops', 'vision', 'python']}"
      ]
     },
     "execution_count": 28,
     "metadata": {},
     "output_type": "execute_result"
    }
   ],
   "source": [
    "d1"
   ]
  },
  {
   "cell_type": "code",
   "execution_count": 29,
   "id": "2c923641",
   "metadata": {},
   "outputs": [
    {
     "data": {
      "text/plain": [
       "['java', 'c', 'oops', 'vision', 'python']"
      ]
     },
     "execution_count": 29,
     "metadata": {},
     "output_type": "execute_result"
    }
   ],
   "source": [
    "d1[\"tech\"]"
   ]
  },
  {
   "cell_type": "code",
   "execution_count": 31,
   "id": "98c274d6",
   "metadata": {},
   "outputs": [
    {
     "data": {
      "text/plain": [
       "True"
      ]
     },
     "execution_count": 31,
     "metadata": {},
     "output_type": "execute_result"
    }
   ],
   "source": [
    "\"python\" in d1[\"tech\"]"
   ]
  },
  {
   "cell_type": "code",
   "execution_count": 32,
   "id": "a00e8e17",
   "metadata": {},
   "outputs": [
    {
     "data": {
      "text/plain": [
       "False"
      ]
     },
     "execution_count": 32,
     "metadata": {},
     "output_type": "execute_result"
    }
   ],
   "source": [
    "\"ml\" in d1[\"tech\"]"
   ]
  },
  {
   "cell_type": "code",
   "execution_count": 33,
   "id": "ced54e7d",
   "metadata": {},
   "outputs": [],
   "source": [
    "d={'srno':12, \"name\":\"swap\", \"number\":4556,\"name\":\"bgshshs\"}"
   ]
  },
  {
   "cell_type": "code",
   "execution_count": 37,
   "id": "26c2a093",
   "metadata": {},
   "outputs": [
    {
     "data": {
      "text/plain": [
       "{'srno': 12, 'name': 'bgshshs', 'number': 4556}"
      ]
     },
     "execution_count": 37,
     "metadata": {},
     "output_type": "execute_result"
    }
   ],
   "source": [
    "d"
   ]
  },
  {
   "cell_type": "code",
   "execution_count": 43,
   "id": "d0e9d2c6",
   "metadata": {},
   "outputs": [],
   "source": [
    "d[\"k1\"]=8999"
   ]
  },
  {
   "cell_type": "code",
   "execution_count": 44,
   "id": "092b5a97",
   "metadata": {},
   "outputs": [
    {
     "data": {
      "text/plain": [
       "{'srno': 12, 'name': 'bgshshs', 'number': 4556, 'k1': 8999}"
      ]
     },
     "execution_count": 44,
     "metadata": {},
     "output_type": "execute_result"
    }
   ],
   "source": [
    "d"
   ]
  },
  {
   "cell_type": "code",
   "execution_count": 49,
   "id": "f81e2e64",
   "metadata": {},
   "outputs": [],
   "source": [
    "d[\"k2\"]=d1"
   ]
  },
  {
   "cell_type": "code",
   "execution_count": 50,
   "id": "d7a77163",
   "metadata": {},
   "outputs": [
    {
     "data": {
      "text/plain": [
       "{'srno': 12,\n",
       " 'name': 'bgshshs',\n",
       " 'number': 4556,\n",
       " 'k1': 8999,\n",
       " 'k2': {'name': 'kitto', 'tech': ['java', 'c', 'oops', 'vision', 'python']}}"
      ]
     },
     "execution_count": 50,
     "metadata": {},
     "output_type": "execute_result"
    }
   ],
   "source": [
    "d"
   ]
  },
  {
   "cell_type": "code",
   "execution_count": 51,
   "id": "4bc6a101",
   "metadata": {},
   "outputs": [
    {
     "data": {
      "text/plain": [
       "{'name': 'kitto', 'tech': ['java', 'c', 'oops', 'vision', 'python']}"
      ]
     },
     "execution_count": 51,
     "metadata": {},
     "output_type": "execute_result"
    }
   ],
   "source": [
    "d[\"k2\"]"
   ]
  },
  {
   "cell_type": "code",
   "execution_count": 61,
   "id": "f2701f22",
   "metadata": {},
   "outputs": [
    {
     "data": {
      "text/plain": [
       "['java', 'c', 'oops', 'vision', 'python']"
      ]
     },
     "execution_count": 61,
     "metadata": {},
     "output_type": "execute_result"
    }
   ],
   "source": [
    "d[\"k2\"][\"tech\"]"
   ]
  },
  {
   "cell_type": "code",
   "execution_count": 74,
   "id": "fea96a81",
   "metadata": {},
   "outputs": [
    {
     "ename": "SyntaxError",
     "evalue": "invalid syntax (1684163976.py, line 1)",
     "output_type": "error",
     "traceback": [
      "\u001b[1;36m  File \u001b[1;32m\"C:\\Users\\Swapnil\\AppData\\Local\\Temp\\ipykernel_25480\\1684163976.py\"\u001b[1;36m, line \u001b[1;32m1\u001b[0m\n\u001b[1;33m    d5= {@:\"swap\"}\u001b[0m\n\u001b[1;37m         ^\u001b[0m\n\u001b[1;31mSyntaxError\u001b[0m\u001b[1;31m:\u001b[0m invalid syntax\n"
     ]
    }
   ],
   "source": [
    "d5= {@:\"swap\"}"
   ]
  },
  {
   "cell_type": "code",
   "execution_count": 90,
   "id": "6259a7cd",
   "metadata": {},
   "outputs": [
    {
     "ename": "TypeError",
     "evalue": "unhashable type: 'dict'",
     "output_type": "error",
     "traceback": [
      "\u001b[1;31m---------------------------------------------------------------------------\u001b[0m",
      "\u001b[1;31mTypeError\u001b[0m                                 Traceback (most recent call last)",
      "\u001b[1;32m~\\AppData\\Local\\Temp\\ipykernel_25480\\3530269350.py\u001b[0m in \u001b[0;36m<module>\u001b[1;34m\u001b[0m\n\u001b[1;32m----> 1\u001b[1;33m \u001b[0md5\u001b[0m\u001b[1;33m=\u001b[0m \u001b[1;33m{\u001b[0m\u001b[0m_\u001b[0m\u001b[1;33m:\u001b[0m\u001b[1;34m\"swap\"\u001b[0m\u001b[1;33m}\u001b[0m\u001b[1;33m\u001b[0m\u001b[1;33m\u001b[0m\u001b[0m\n\u001b[0m",
      "\u001b[1;31mTypeError\u001b[0m: unhashable type: 'dict'"
     ]
    }
   ],
   "source": [
    "d5= {_:\"swap\"}"
   ]
  },
  {
   "cell_type": "code",
   "execution_count": 83,
   "id": "6e3afe47",
   "metadata": {},
   "outputs": [
    {
     "ename": "TypeError",
     "evalue": "unhashable type: 'list'",
     "output_type": "error",
     "traceback": [
      "\u001b[1;31m---------------------------------------------------------------------------\u001b[0m",
      "\u001b[1;31mTypeError\u001b[0m                                 Traceback (most recent call last)",
      "\u001b[1;32m~\\AppData\\Local\\Temp\\ipykernel_25480\\3842485404.py\u001b[0m in \u001b[0;36m<module>\u001b[1;34m\u001b[0m\n\u001b[1;32m----> 1\u001b[1;33m \u001b[0md6\u001b[0m\u001b[1;33m=\u001b[0m\u001b[1;33m{\u001b[0m\u001b[1;33m[\u001b[0m\u001b[1;36m1\u001b[0m\u001b[1;33m,\u001b[0m\u001b[1;36m2\u001b[0m\u001b[1;33m,\u001b[0m\u001b[1;36m34\u001b[0m\u001b[1;33m]\u001b[0m\u001b[1;33m:\u001b[0m\u001b[1;34m\"bhhh\"\u001b[0m\u001b[1;33m}\u001b[0m\u001b[1;33m\u001b[0m\u001b[1;33m\u001b[0m\u001b[0m\n\u001b[0m",
      "\u001b[1;31mTypeError\u001b[0m: unhashable type: 'list'"
     ]
    }
   ],
   "source": [
    "d6={[1,2,34]:\"bhhh\"}"
   ]
  },
  {
   "cell_type": "code",
   "execution_count": 84,
   "id": "d6c15d53",
   "metadata": {},
   "outputs": [],
   "source": [
    "d6={(1,2,34):\"bhhh\"}"
   ]
  },
  {
   "cell_type": "code",
   "execution_count": 85,
   "id": "fca31bac",
   "metadata": {},
   "outputs": [
    {
     "data": {
      "text/plain": [
       "{(1, 2, 34): 'bhhh'}"
      ]
     },
     "execution_count": 85,
     "metadata": {},
     "output_type": "execute_result"
    }
   ],
   "source": [
    "d6"
   ]
  },
  {
   "cell_type": "code",
   "execution_count": 86,
   "id": "0a624aaf",
   "metadata": {},
   "outputs": [
    {
     "ename": "TypeError",
     "evalue": "unhashable type: 'dict'",
     "output_type": "error",
     "traceback": [
      "\u001b[1;31m---------------------------------------------------------------------------\u001b[0m",
      "\u001b[1;31mTypeError\u001b[0m                                 Traceback (most recent call last)",
      "\u001b[1;32m~\\AppData\\Local\\Temp\\ipykernel_25480\\997374884.py\u001b[0m in \u001b[0;36m<module>\u001b[1;34m\u001b[0m\n\u001b[1;32m----> 1\u001b[1;33m \u001b[0md8\u001b[0m\u001b[1;33m=\u001b[0m\u001b[1;33m{\u001b[0m\u001b[1;33m{\u001b[0m\u001b[1;36m3\u001b[0m\u001b[1;33m:\u001b[0m\u001b[1;36m4\u001b[0m\u001b[1;33m}\u001b[0m\u001b[1;33m:\u001b[0m\u001b[1;34m\"swap\"\u001b[0m\u001b[1;33m}\u001b[0m\u001b[1;33m\u001b[0m\u001b[1;33m\u001b[0m\u001b[0m\n\u001b[0m",
      "\u001b[1;31mTypeError\u001b[0m: unhashable type: 'dict'"
     ]
    }
   ],
   "source": [
    "d8={{3:4}:\"swap\"}"
   ]
  },
  {
   "cell_type": "code",
   "execution_count": 92,
   "id": "73ed49c7",
   "metadata": {},
   "outputs": [
    {
     "ename": "TypeError",
     "evalue": "unsupported operand type(s) for +: 'dict' and 'dict'",
     "output_type": "error",
     "traceback": [
      "\u001b[1;31m---------------------------------------------------------------------------\u001b[0m",
      "\u001b[1;31mTypeError\u001b[0m                                 Traceback (most recent call last)",
      "\u001b[1;32m~\\AppData\\Local\\Temp\\ipykernel_25480\\2481232059.py\u001b[0m in \u001b[0;36m<module>\u001b[1;34m\u001b[0m\n\u001b[1;32m----> 1\u001b[1;33m \u001b[0md\u001b[0m\u001b[1;33m+\u001b[0m\u001b[0md1\u001b[0m\u001b[1;33m\u001b[0m\u001b[1;33m\u001b[0m\u001b[0m\n\u001b[0m",
      "\u001b[1;31mTypeError\u001b[0m: unsupported operand type(s) for +: 'dict' and 'dict'"
     ]
    }
   ],
   "source": [
    "d+d1"
   ]
  },
  {
   "cell_type": "code",
   "execution_count": 94,
   "id": "439d51d1",
   "metadata": {},
   "outputs": [
    {
     "data": {
      "text/plain": [
       "dict_keys(['srno', 'name', 'number', 'k1', 'k2'])"
      ]
     },
     "execution_count": 94,
     "metadata": {},
     "output_type": "execute_result"
    }
   ],
   "source": [
    "d.keys()"
   ]
  },
  {
   "cell_type": "code",
   "execution_count": 96,
   "id": "a46f7d43",
   "metadata": {},
   "outputs": [
    {
     "data": {
      "text/plain": [
       "dict_values([12, 'bgshshs', 4556, 8999, {'name': 'kitto', 'tech': ['java', 'c', 'oops', 'vision', 'python']}])"
      ]
     },
     "execution_count": 96,
     "metadata": {},
     "output_type": "execute_result"
    }
   ],
   "source": [
    "d.values()"
   ]
  },
  {
   "cell_type": "code",
   "execution_count": null,
   "id": "1f2bfaae",
   "metadata": {},
   "outputs": [],
   "source": []
  },
  {
   "cell_type": "code",
   "execution_count": null,
   "id": "83253cff",
   "metadata": {},
   "outputs": [],
   "source": []
  },
  {
   "cell_type": "code",
   "execution_count": null,
   "id": "604582e6",
   "metadata": {},
   "outputs": [],
   "source": []
  },
  {
   "cell_type": "code",
   "execution_count": null,
   "id": "a21034ac",
   "metadata": {},
   "outputs": [],
   "source": []
  },
  {
   "cell_type": "code",
   "execution_count": null,
   "id": "fe72b0fa",
   "metadata": {},
   "outputs": [],
   "source": []
  }
 ],
 "metadata": {
  "kernelspec": {
   "display_name": "Python 3 (ipykernel)",
   "language": "python",
   "name": "python3"
  },
  "language_info": {
   "codemirror_mode": {
    "name": "ipython",
    "version": 3
   },
   "file_extension": ".py",
   "mimetype": "text/x-python",
   "name": "python",
   "nbconvert_exporter": "python",
   "pygments_lexer": "ipython3",
   "version": "3.9.13"
  }
 },
 "nbformat": 4,
 "nbformat_minor": 5
}
